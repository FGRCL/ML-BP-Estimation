{
 "cells": [
  {
   "cell_type": "code",
   "execution_count": 1,
   "outputs": [],
   "source": [
    "from src.vitaldb.fetchingstrategy.Sdk import Sdk\n",
    "from src.vitaldb.casegenerator import VitalFileOptions\n",
    "from src.vitaldb.casesplit import split_generator\n",
    "from src.metrics.standardeviation import StandardDeviation, AbsoluteError\n",
    "from src.models.baseline import baseline_model\n",
    "import src.preprocessing.transforms as transforms\n",
    "import src.preprocessing.filters as filters\n",
    "\n",
    "import tensorflow as tf\n",
    "\n",
    "from tensorflow import keras\n",
    "from keras import layers\n",
    "from keras.metrics import MeanAbsoluteError\n",
    "import pandas as pd"
   ],
   "metadata": {
    "collapsed": false,
    "pycharm": {
     "name": "#%%\n"
    }
   }
  },
  {
   "cell_type": "code",
   "execution_count": 6,
   "outputs": [
    {
     "name": "stderr",
     "output_type": "stream",
     "text": [
      "2022-06-28 15:52:52.508541: I tensorflow/core/platform/cpu_feature_guard.cc:193] This TensorFlow binary is optimized with oneAPI Deep Neural Network Library (oneDNN) to use the following CPU instructions in performance-critical operations:  AVX2 FMA\n",
      "To enable them in other operations, rebuild TensorFlow with the appropriate compiler flags.\n"
     ]
    }
   ],
   "source": [
    "frequency = 500\n",
    "samples = range(1, 100)\n",
    "train_split = 0.7\n",
    "validate_split = 0.15\n",
    "validate_test = 0.15\n",
    "batching = False\n",
    "\n",
    "options = VitalFileOptions(\n",
    "    ['SNUADC/ART'],\n",
    "    1/frequency\n",
    ")\n",
    "\n",
    "train_generator, val_generator, test_generator = split_generator(options, Sdk(),  [0.7, 0.15, 0.15])\n",
    "\n",
    "dataset_train = tf.data.Dataset.from_generator(\n",
    "    lambda: train_generator,\n",
    "    output_signature=(\n",
    "        tf.TensorSpec(shape=(None, 2), dtype=tf.float64)\n",
    "    )\n",
    ")\n",
    "\n",
    "dataset_val = tf.data.Dataset.from_generator(\n",
    "    lambda: val_generator,\n",
    "    output_signature=(\n",
    "        tf.TensorSpec(shape=(None, 2), dtype=tf.float64)\n",
    "    )\n",
    ")"
   ],
   "metadata": {
    "collapsed": false,
    "pycharm": {
     "name": "#%%\n"
    }
   }
  },
  {
   "cell_type": "code",
   "execution_count": null,
   "outputs": [],
   "source": [
    "def preprocess_dataset(dataset: tf.data.Dataset):\n",
    "    dataset = dataset.filter(filters.has_data)\n",
    "    dataset = dataset.map(transforms.extract_abp_track)\n",
    "    dataset = dataset.map(transforms.remove_nan)\n",
    "    dataset = dataset.map(lambda x: abp_low_pass_graph_adapter(x, frequency))\n",
    "    dataset = dataset.map(lambda x: extract_clean_windows_graph_adapter(x, frequency, 8, 2))\n",
    "    dataset= dataset.flat_map(transforms.to_tensor)\n",
    "    dataset = dataset.filter(lambda x: filters.pressure_out_of_bounds(x, 30, 230))\n",
    "    dataset = dataset.map(transforms.extract_sbp_dbp_from_abp_window)\n",
    "    dataset = dataset.map(transforms.scale_array)\n",
    "\n",
    "    if batching:\n",
    "        dataset = dataset.map(lambda d, l: (tf.reshape(d, shape=(4000, 1)), l))\n",
    "        dataset = dataset.batch(20).prefetch(2)\n",
    "    else:\n",
    "        dataset = dataset.map(lambda d, l: (tf.reshape(d, shape=(1, 4000)), l))\n",
    "\n",
    "    return dataset\n",
    "\n",
    "dataset_train = preprocess_dataset(dataset_train).take(70)\n",
    "dataset_val = preprocess_dataset(dataset_val).take(15)"
   ],
   "metadata": {
    "collapsed": false,
    "pycharm": {
     "name": "#%%\n"
    }
   }
  },
  {
   "cell_type": "code",
   "execution_count": null,
   "outputs": [],
   "source": [
    "model = baseline_model()\n",
    "model.summary()\n",
    "model.compile(optimizer='Adam', loss=keras.losses.MeanAbsoluteError(),\n",
    "              metrics=[\n",
    "                  MeanAbsoluteError(),\n",
    "                  StandardDeviation(AbsoluteError())\n",
    "              ]\n",
    "              )"
   ],
   "metadata": {
    "collapsed": false,
    "pycharm": {
     "name": "#%%\n"
    }
   }
  }
 ],
 "metadata": {
  "kernelspec": {
   "display_name": "Python 3",
   "language": "python",
   "name": "python3"
  },
  "language_info": {
   "codemirror_mode": {
    "name": "ipython",
    "version": 2
   },
   "file_extension": ".py",
   "mimetype": "text/x-python",
   "name": "python",
   "nbconvert_exporter": "python",
   "pygments_lexer": "ipython2",
   "version": "2.7.6"
  }
 },
 "nbformat": 4,
 "nbformat_minor": 0
}