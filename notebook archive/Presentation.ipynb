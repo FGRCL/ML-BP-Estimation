{
 "cells": [
  {
   "cell_type": "markdown",
   "source": [
    "## Progress\n",
    "Goal: Replicate the best performing neural network architecture for PPG-BP blood pressure estimation\n",
    "[Bi-GRU + GRU + attention mechanism]\n",
    "1. Fetching the data\n",
    "2. Filtering Data\n",
    "3. Extracting features\n",
    "4. Building the Neural network architecture"
   ],
   "metadata": {
    "collapsed": false,
    "pycharm": {
     "name": "#%% md\n"
    }
   }
  },
  {
   "cell_type": "markdown",
   "source": [
    "### 1. Fetching Data\n",
    "- Mostly Done\n",
    "- Vital DB\n",
    "- Slow"
   ],
   "metadata": {
    "collapsed": false,
    "pycharm": {
     "name": "#%% md\n"
    }
   }
  },
  {
   "cell_type": "code",
   "execution_count": 4,
   "outputs": [
    {
     "ename": "Exception",
     "evalue": "The generator should have between 1 and 6388 case ids but got 0",
     "output_type": "error",
     "traceback": [
      "\u001B[0;31m---------------------------------------------------------------------------\u001B[0m",
      "\u001B[0;31mException\u001B[0m                                 Traceback (most recent call last)",
      "Input \u001B[0;32mIn [4]\u001B[0m, in \u001B[0;36m<cell line: 10>\u001B[0;34m()\u001B[0m\n\u001B[1;32m      4\u001B[0m \u001B[38;5;28;01mimport\u001B[39;00m \u001B[38;5;21;01mmatplotlib\u001B[39;00m\u001B[38;5;21;01m.\u001B[39;00m\u001B[38;5;21;01mpyplot\u001B[39;00m \u001B[38;5;28;01mas\u001B[39;00m \u001B[38;5;21;01mplt\u001B[39;00m\n\u001B[1;32m      6\u001B[0m options \u001B[38;5;241m=\u001B[39m VitalFileOptions(\n\u001B[1;32m      7\u001B[0m     [\u001B[38;5;124m'\u001B[39m\u001B[38;5;124mSNUADC/ART\u001B[39m\u001B[38;5;124m'\u001B[39m],\n\u001B[1;32m      8\u001B[0m     \u001B[38;5;241m1\u001B[39m\u001B[38;5;241m/\u001B[39m\u001B[38;5;241m500\u001B[39m\n\u001B[1;32m      9\u001B[0m )\n\u001B[0;32m---> 10\u001B[0m vitalDbGenerator \u001B[38;5;241m=\u001B[39m \u001B[43mVitalDBGenerator\u001B[49m\u001B[43m(\u001B[49m\u001B[43moptions\u001B[49m\u001B[43m,\u001B[49m\u001B[43m \u001B[49m\u001B[43mSdk\u001B[49m\u001B[43m(\u001B[49m\u001B[43m)\u001B[49m\u001B[43m,\u001B[49m\u001B[43m \u001B[49m\u001B[38;5;28;43mrange\u001B[39;49m\u001B[43m(\u001B[49m\u001B[38;5;241;43m1\u001B[39;49m\u001B[43m,\u001B[49m\u001B[43m \u001B[49m\u001B[38;5;241;43m1\u001B[39;49m\u001B[43m)\u001B[49m\u001B[43m)\u001B[49m\n\u001B[1;32m     12\u001B[0m dataset \u001B[38;5;241m=\u001B[39m tf\u001B[38;5;241m.\u001B[39mdata\u001B[38;5;241m.\u001B[39mDataset\u001B[38;5;241m.\u001B[39mfrom_generator(\n\u001B[1;32m     13\u001B[0m     \u001B[38;5;28;01mlambda\u001B[39;00m: vitalDbGenerator,\n\u001B[1;32m     14\u001B[0m     output_signature\u001B[38;5;241m=\u001B[39m(\n\u001B[1;32m     15\u001B[0m         tf\u001B[38;5;241m.\u001B[39mTensorSpec(shape\u001B[38;5;241m=\u001B[39m(\u001B[38;5;28;01mNone\u001B[39;00m, \u001B[38;5;241m3\u001B[39m), dtype\u001B[38;5;241m=\u001B[39mtf\u001B[38;5;241m.\u001B[39mfloat64)\n\u001B[1;32m     16\u001B[0m     )\n\u001B[1;32m     17\u001B[0m )\n\u001B[1;32m     19\u001B[0m \u001B[38;5;28;01mfor\u001B[39;00m vital_file \u001B[38;5;129;01min\u001B[39;00m dataset\u001B[38;5;241m.\u001B[39mtake(\u001B[38;5;241m1\u001B[39m):\n",
      "File \u001B[0;32m~/git/BPBaseline/src/vitaldb/casegenerator.py:19\u001B[0m, in \u001B[0;36mVitalDBGenerator.__init__\u001B[0;34m(self, options, fetching_strategy, case_ids)\u001B[0m\n\u001B[1;32m     17\u001B[0m \u001B[38;5;28;01mdef\u001B[39;00m \u001B[38;5;21m__init__\u001B[39m(\u001B[38;5;28mself\u001B[39m, options: VitalFileOptions, fetching_strategy: VitalDBFetchingStrategy, case_ids: \u001B[38;5;28mlist\u001B[39m[\u001B[38;5;28mint\u001B[39m]):\n\u001B[1;32m     18\u001B[0m     \u001B[38;5;28;01mif\u001B[39;00m \u001B[38;5;28mlen\u001B[39m(case_ids) \u001B[38;5;241m<\u001B[39m \u001B[38;5;241m1\u001B[39m \u001B[38;5;129;01mor\u001B[39;00m \u001B[38;5;28mlen\u001B[39m(case_ids) \u001B[38;5;241m>\u001B[39m \u001B[38;5;241m6388\u001B[39m: \u001B[38;5;66;03m#TODO save those constants somewhere\u001B[39;00m\n\u001B[0;32m---> 19\u001B[0m         \u001B[38;5;28;01mraise\u001B[39;00m \u001B[38;5;167;01mException\u001B[39;00m(\u001B[38;5;124mf\u001B[39m\u001B[38;5;124m'\u001B[39m\u001B[38;5;124mThe generator should have between 1 and 6388 case ids but got \u001B[39m\u001B[38;5;132;01m{\u001B[39;00m\u001B[38;5;28mlen\u001B[39m(case_ids)\u001B[38;5;132;01m}\u001B[39;00m\u001B[38;5;124m'\u001B[39m)\n\u001B[1;32m     20\u001B[0m     \u001B[38;5;28mself\u001B[39m\u001B[38;5;241m.\u001B[39mcase_ids \u001B[38;5;241m=\u001B[39m \u001B[38;5;28miter\u001B[39m(case_ids)\n\u001B[1;32m     21\u001B[0m     \u001B[38;5;28mself\u001B[39m\u001B[38;5;241m.\u001B[39moptions \u001B[38;5;241m=\u001B[39m options\n",
      "\u001B[0;31mException\u001B[0m: The generator should have between 1 and 6388 case ids but got 0"
     ]
    }
   ],
   "source": [
    "from src.vitaldb.casegenerator import VitalDBGenerator, VitalFileOptions\n",
    "from src.vitaldb.fetchingstrategy.Sdk import Sdk\n",
    "import tensorflow as tf\n",
    "import matplotlib.pyplot as plt\n",
    "\n",
    "options = VitalFileOptions(\n",
    "    ['SNUADC/ART'],\n",
    "    1/500\n",
    ")\n",
    "vitalDbGenerator = VitalDBGenerator(options, Sdk(), range(1, 1))\n",
    "\n",
    "dataset = tf.data.Dataset.from_generator(\n",
    "    lambda: vitalDbGenerator,\n",
    "    output_signature=(\n",
    "        tf.TensorSpec(shape=(None, 3), dtype=tf.float64)\n",
    "    )\n",
    ")\n",
    "\n",
    "for vital_file in dataset.take(1):\n",
    "    plt.figure(figsize=(40,10))\n",
    "    plt.title(\"Arterial Blood Pressure\")\n",
    "    plt.plot(vital_file[:,0], vital_file[:,1])\n",
    "    plt.show()\n",
    "\n",
    "    plt.figure(figsize=(40,10))\n",
    "    plt.title(\"PPG\")\n",
    "    plt.plot(vital_file[:,0], vital_file[:,2])\n",
    "    plt.show()\n",
    "\n",
    "    # plotting from 6000s to 60001s\n",
    "    plt.figure(figsize=(40,10))\n",
    "    plt.title(\"Arterial Blood Pressure\")\n",
    "    plt.plot(vital_file[3000000:3005000,0], vital_file[3000000:3005000,1])\n",
    "    plt.show()\n",
    "\n",
    "    plt.figure(figsize=(40,10))\n",
    "    plt.title(\"PPG\")\n",
    "    plt.plot(vital_file[3000000:3005000,0], vital_file[3000000:3005000,2])\n",
    "    plt.show()"
   ],
   "metadata": {
    "collapsed": false,
    "pycharm": {
     "name": "#%%\n"
    }
   }
  },
  {
   "cell_type": "markdown",
   "source": [
    "- Solutions\n",
    "    - Load data from files\n",
    "    - Store data in a local database\n",
    "    - Compute Canada\n",
    "    - Google Colab place\n",
    "- Which track should we use?\n",
    "    - SNUADC/ART\n",
    "    - SNUDAC/FEM"
   ],
   "metadata": {
    "collapsed": false,
    "pycharm": {
     "name": "#%% md\n"
    }
   }
  },
  {
   "cell_type": "markdown",
   "source": [
    "### 2. Filtering data\n",
    "- Low-pass filter\n",
    "    - Not a priority\n",
    "- Detect outliers\n",
    "    - % from preceding heart beat\n",
    "- Remove tracks without data\n"
   ],
   "metadata": {
    "collapsed": false,
    "pycharm": {
     "name": "#%% md\n"
    }
   }
  },
  {
   "cell_type": "markdown",
   "source": [
    "### 3. Feature extraction\n",
    "- The riskiest part of the project\n",
    "    - Mitigate with prototyping\n",
    "    - Python library\n",
    "    - Continuous Wavelet Transform\n",
    "- Use a CNN architecture\n",
    "- CNN + Attention mechanism\n",
    "- Use image of the curve\n",
    "\n",
    "| Architecture | SBP | DPB |\n",
    "|---|---|---|\n",
    "|Bi-GRU + GRU + attention mechanism| 3±4.23|1.42±1.83|\n",
    "|CNN + LSTM (2L) + MLP|3.70±3.07|2.02±1.76|"
   ],
   "metadata": {
    "collapsed": false,
    "pycharm": {
     "name": "#%% md\n"
    }
   }
  },
  {
   "cell_type": "markdown",
   "source": [
    "### 4. Building the network architecture\n",
    "- Fastest to implement\n",
    "- Keras has implementations for all the layers already\n",
    "- Training time could be long\n",
    "    - Compute time"
   ],
   "metadata": {
    "collapsed": false,
    "pycharm": {
     "name": "#%% md\n"
    }
   }
  }
 ],
 "metadata": {
  "kernelspec": {
   "display_name": "Python 3",
   "language": "python",
   "name": "python3"
  },
  "language_info": {
   "codemirror_mode": {
    "name": "ipython",
    "version": 2
   },
   "file_extension": ".py",
   "mimetype": "text/x-python",
   "name": "python",
   "nbconvert_exporter": "python",
   "pygments_lexer": "ipython2",
   "version": "2.7.6"
  }
 },
 "nbformat": 4,
 "nbformat_minor": 0
}